{
 "cells": [
  {
   "cell_type": "markdown",
   "metadata": {},
   "source": [
    "## **Metodo de Newton**\n",
    "---\n",
    "\n",
    "**Este ejercicio consciste en la aproximacion del valor de la raiz de un numero, ingresado por el usuario.**\n",
    "\n",
    "\n"
   ]
  },
  {
   "cell_type": "markdown",
   "metadata": {},
   "source": [
    "### **Formula**\n",
    "\n",
    "\n",
    "---"
   ]
  },
  {
   "cell_type": "markdown",
   "metadata": {},
   "source": [
    "**Comenzamos importando el modulo ---> math.**"
   ]
  },
  {
   "cell_type": "code",
   "execution_count": null,
   "metadata": {},
   "outputs": [],
   "source": [
    "import math "
   ]
  },
  {
   "cell_type": "markdown",
   "metadata": {},
   "source": [
    "---"
   ]
  },
  {
   "cell_type": "markdown",
   "metadata": {},
   "source": [
    "**Creamos una funcion que llamaremos --->  raiz.**\n",
    "\n",
    "Esta funcion recibe el parametro **n** e **i.**\n",
    "\n",
    "> **n**  ---> Es la variable que reciba el valor asignado por el usuario. \n",
    ">>\n",
    "> **i**  ---> Es la constante que determina el numero de iteraciones dentro de la función"
   ]
  },
  {
   "cell_type": "markdown",
   "metadata": {},
   "source": [
    "---"
   ]
  },
  {
   "cell_type": "code",
   "execution_count": null,
   "metadata": {},
   "outputs": [],
   "source": [
    "n=float(input(\"Ingresa El Numero Para Evaluar La Raiz :\"))\n",
    "ITER=10\n",
    "def raicess(n,ITER):\n",
    "    c=0\n",
    "    x=n/2\n",
    "    for i in range(0,10):\n",
    "        x=(x + (n/x))/2\n",
    "        c+=1\n",
    "        print(\"|----------------------------------------------------------------------------------|\")\n",
    "        print(\"\\n\",c,\"-->\",\"|Aproximacion\",\"--->\",x,\"||\",\"Raiz Exacta\",\"--->\",math.sqrt(n))\n",
    "        print(\"|----------------------------------------------------------------------------------|\")\n",
    "        "
   ]
  },
  {
   "cell_type": "markdown",
   "metadata": {},
   "source": [
    "---"
   ]
  },
  {
   "cell_type": "markdown",
   "metadata": {},
   "source": [
    "**LLamamos a la funcion dentro de un print y EJECUTAMOS.**"
   ]
  },
  {
   "cell_type": "code",
   "execution_count": null,
   "metadata": {},
   "outputs": [],
   "source": [
    "\n",
    "print(raicess(n,ITER))\n"
   ]
  },
  {
   "cell_type": "markdown",
   "metadata": {},
   "source": [
    "---"
   ]
  }
 ],
 "metadata": {
  "interpreter": {
   "hash": "c5a78525df97dba249075709b01e287bd4e326d6cdd762bfcac57fb032148f4b"
  },
  "kernelspec": {
   "display_name": "Python 3.10.4 64-bit (windows store)",
   "language": "python",
   "name": "python3"
  },
  "language_info": {
   "codemirror_mode": {
    "name": "ipython",
    "version": 3
   },
   "file_extension": ".py",
   "mimetype": "text/x-python",
   "name": "python",
   "nbconvert_exporter": "python",
   "pygments_lexer": "ipython3",
   "version": "3.10.4"
  },
  "orig_nbformat": 4
 },
 "nbformat": 4,
 "nbformat_minor": 2
}
